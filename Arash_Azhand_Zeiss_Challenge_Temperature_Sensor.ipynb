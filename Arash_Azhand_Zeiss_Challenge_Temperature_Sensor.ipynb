{
  "nbformat": 4,
  "nbformat_minor": 5,
  "metadata": {
    "kernelspec": {
      "display_name": "Python 3",
      "language": "python",
      "name": "python3"
    },
    "language_info": {
      "codemirror_mode": {
        "name": "ipython",
        "version": 3
      },
      "file_extension": ".py",
      "mimetype": "text/x-python",
      "name": "python",
      "nbconvert_exporter": "python",
      "pygments_lexer": "ipython3",
      "version": "3.7.10"
    },
    "colab": {
      "name": "Arash_Azhand_Zeiss_Challenge_Temperature_Sensor.ipynb",
      "provenance": [],
      "collapsed_sections": []
    }
  },
  "cells": [
    {
      "cell_type": "markdown",
      "metadata": {
        "id": "C7Hi_kvwpNP1"
      },
      "source": [
        "# Problem: Anomaly detection in temperature sensor data\n",
        "\n"
      ],
      "id": "C7Hi_kvwpNP1"
    },
    {
      "cell_type": "markdown",
      "metadata": {
        "id": "NbvNoOpG_ITN"
      },
      "source": [
        "By Dr. Arash Azhand"
      ],
      "id": "NbvNoOpG_ITN"
    },
    {
      "cell_type": "markdown",
      "metadata": {
        "id": "NnsxhAdL0Xvb"
      },
      "source": [
        "## 1. Data insights"
      ],
      "id": "NnsxhAdL0Xvb"
    },
    {
      "cell_type": "markdown",
      "metadata": {
        "id": "LSBtxBRtqwUF"
      },
      "source": [
        "First, we need to import some libraries and the data set."
      ],
      "id": "LSBtxBRtqwUF"
    },
    {
      "cell_type": "code",
      "metadata": {
        "id": "b11c4426-c7b9-4ac0-9145-4319841b5c22"
      },
      "source": [
        "import numpy as np\n",
        "import pandas as pd\n",
        "import sklearn\n",
        "import matplotlib.pyplot as plt\n",
        "import seaborn as sns\n",
        "sns.set(style='white', context='notebook', palette='deep')\n",
        "from scipy.stats import skew\n",
        "from scipy import stats\n",
        "from scipy.stats.stats import pearsonr\n",
        "from scipy.stats import norm\n",
        "from IPython.display import display\n",
        "pd.options.display.max_columns = None\n",
        "%matplotlib inline"
      ],
      "id": "b11c4426-c7b9-4ac0-9145-4319841b5c22",
      "execution_count": 54,
      "outputs": []
    },
    {
      "cell_type": "code",
      "metadata": {
        "id": "315f7947-b1d2-46ec-8438-aa01e60918f0"
      },
      "source": [
        "df = pd.read_csv(\"data/sample_temperature_data_for_coding_challenge.csv\", sep=',')"
      ],
      "id": "315f7947-b1d2-46ec-8438-aa01e60918f0",
      "execution_count": 26,
      "outputs": []
    },
    {
      "cell_type": "markdown",
      "metadata": {
        "id": "vj-UrjPQrBIQ"
      },
      "source": [
        "As we see below in the next cells, the data set contains four columns, of which the source id is not important for us, since only specifying the sensor. We see a date of measurement, a property name that obviously seems to possess two values (heating_temperature, cooling_temperature), and the measured temperature. \n",
        "Below, we want to gather some insights on the data set."
      ],
      "id": "vj-UrjPQrBIQ"
    },
    {
      "cell_type": "code",
      "metadata": {
        "colab": {
          "base_uri": "https://localhost:8080/",
          "height": 206
        },
        "id": "d639634d-6bf8-49f9-809d-6542478b951e",
        "outputId": "fdb6e28d-7997-4af7-af71-f86059236417"
      },
      "source": [
        "df.head()"
      ],
      "id": "d639634d-6bf8-49f9-809d-6542478b951e",
      "execution_count": 27,
      "outputs": [
        {
          "output_type": "execute_result",
          "data": {
            "text/html": [
              "<div>\n",
              "<style scoped>\n",
              "    .dataframe tbody tr th:only-of-type {\n",
              "        vertical-align: middle;\n",
              "    }\n",
              "\n",
              "    .dataframe tbody tr th {\n",
              "        vertical-align: top;\n",
              "    }\n",
              "\n",
              "    .dataframe thead th {\n",
              "        text-align: right;\n",
              "    }\n",
              "</style>\n",
              "<table border=\"1\" class=\"dataframe\">\n",
              "  <thead>\n",
              "    <tr style=\"text-align: right;\">\n",
              "      <th></th>\n",
              "      <th>source_id</th>\n",
              "      <th>datetime</th>\n",
              "      <th>property_name</th>\n",
              "      <th>temperature</th>\n",
              "    </tr>\n",
              "  </thead>\n",
              "  <tbody>\n",
              "    <tr>\n",
              "      <th>0</th>\n",
              "      <td>MICDEV001</td>\n",
              "      <td>2019-04-13T17:51:16.000+0000</td>\n",
              "      <td>heating_temperature</td>\n",
              "      <td>33.3</td>\n",
              "    </tr>\n",
              "    <tr>\n",
              "      <th>1</th>\n",
              "      <td>MICDEV001</td>\n",
              "      <td>2019-04-13T17:51:16.000+0000</td>\n",
              "      <td>cooling_temperature</td>\n",
              "      <td>15.0</td>\n",
              "    </tr>\n",
              "    <tr>\n",
              "      <th>2</th>\n",
              "      <td>MICDEV001</td>\n",
              "      <td>2019-04-13T18:51:18.000+0000</td>\n",
              "      <td>heating_temperature</td>\n",
              "      <td>34.0</td>\n",
              "    </tr>\n",
              "    <tr>\n",
              "      <th>3</th>\n",
              "      <td>MICDEV001</td>\n",
              "      <td>2019-04-13T19:51:20.000+0000</td>\n",
              "      <td>heating_temperature</td>\n",
              "      <td>33.8</td>\n",
              "    </tr>\n",
              "    <tr>\n",
              "      <th>4</th>\n",
              "      <td>MICDEV001</td>\n",
              "      <td>2019-04-13T20:51:21.000+0000</td>\n",
              "      <td>heating_temperature</td>\n",
              "      <td>34.2</td>\n",
              "    </tr>\n",
              "  </tbody>\n",
              "</table>\n",
              "</div>"
            ],
            "text/plain": [
              "   source_id                      datetime        property_name  temperature\n",
              "0  MICDEV001  2019-04-13T17:51:16.000+0000  heating_temperature         33.3\n",
              "1  MICDEV001  2019-04-13T17:51:16.000+0000  cooling_temperature         15.0\n",
              "2  MICDEV001  2019-04-13T18:51:18.000+0000  heating_temperature         34.0\n",
              "3  MICDEV001  2019-04-13T19:51:20.000+0000  heating_temperature         33.8\n",
              "4  MICDEV001  2019-04-13T20:51:21.000+0000  heating_temperature         34.2"
            ]
          },
          "metadata": {
            "tags": []
          },
          "execution_count": 27
        }
      ]
    },
    {
      "cell_type": "markdown",
      "metadata": {
        "id": "F4-6E09ttJCQ"
      },
      "source": [
        "As we see below, there are indeed the two unique properties ('heating_temperature', 'cooling_temperature')"
      ],
      "id": "F4-6E09ttJCQ"
    },
    {
      "cell_type": "code",
      "metadata": {
        "colab": {
          "base_uri": "https://localhost:8080/"
        },
        "id": "Ij_BzOdHtBv4",
        "outputId": "e83c4d77-b704-405a-8a22-e86cb65de035"
      },
      "source": [
        "df['property_name'].unique()"
      ],
      "id": "Ij_BzOdHtBv4",
      "execution_count": 28,
      "outputs": [
        {
          "output_type": "execute_result",
          "data": {
            "text/plain": [
              "array(['heating_temperature', 'cooling_temperature'], dtype=object)"
            ]
          },
          "metadata": {
            "tags": []
          },
          "execution_count": 28
        }
      ]
    },
    {
      "cell_type": "markdown",
      "metadata": {
        "id": "2BdgEQ5vubtN"
      },
      "source": [
        "Next, we need to transform the data frame such that we have temperature measurements for unique datetime values. For that, we have to first group by datetime. Following that, we will determine sample dates having both cooling as well as the heating temperature measurements, and the remaining samples that lack one of the temperatures."
      ],
      "id": "2BdgEQ5vubtN"
    },
    {
      "cell_type": "code",
      "metadata": {
        "id": "b59a1ed7-3d53-4592-bb32-1bbc54a5c604"
      },
      "source": [
        "# Get a data frame containing unique datetimes with corresponding count of properties\n",
        "property_count_df = df.groupby(\"datetime\")[\"property_name\"].nunique().to_frame()\n",
        "property_count_df['datetime'] = property_count_df.index\n",
        "property_count_df = property_count_df.reset_index(drop=True)"
      ],
      "id": "b59a1ed7-3d53-4592-bb32-1bbc54a5c604",
      "execution_count": 29,
      "outputs": []
    },
    {
      "cell_type": "code",
      "metadata": {
        "colab": {
          "base_uri": "https://localhost:8080/",
          "height": 258
        },
        "id": "d908ddde-96d5-4da0-8c60-040f7db1cda9",
        "outputId": "30dfecf7-270e-4d45-b9a8-86d96014400f"
      },
      "source": [
        "print('='*75)\n",
        "print('Head of property_count_df:')\n",
        "print('='*75)\n",
        "display(property_count_df.head())"
      ],
      "id": "d908ddde-96d5-4da0-8c60-040f7db1cda9",
      "execution_count": 30,
      "outputs": [
        {
          "output_type": "stream",
          "text": [
            "===========================================================================\n",
            "Head of property_count_df:\n",
            "===========================================================================\n"
          ],
          "name": "stdout"
        },
        {
          "output_type": "display_data",
          "data": {
            "text/html": [
              "<div>\n",
              "<style scoped>\n",
              "    .dataframe tbody tr th:only-of-type {\n",
              "        vertical-align: middle;\n",
              "    }\n",
              "\n",
              "    .dataframe tbody tr th {\n",
              "        vertical-align: top;\n",
              "    }\n",
              "\n",
              "    .dataframe thead th {\n",
              "        text-align: right;\n",
              "    }\n",
              "</style>\n",
              "<table border=\"1\" class=\"dataframe\">\n",
              "  <thead>\n",
              "    <tr style=\"text-align: right;\">\n",
              "      <th></th>\n",
              "      <th>property_name</th>\n",
              "      <th>datetime</th>\n",
              "    </tr>\n",
              "  </thead>\n",
              "  <tbody>\n",
              "    <tr>\n",
              "      <th>0</th>\n",
              "      <td>2</td>\n",
              "      <td>2019-04-13T17:51:16.000+0000</td>\n",
              "    </tr>\n",
              "    <tr>\n",
              "      <th>1</th>\n",
              "      <td>1</td>\n",
              "      <td>2019-04-13T18:51:18.000+0000</td>\n",
              "    </tr>\n",
              "    <tr>\n",
              "      <th>2</th>\n",
              "      <td>1</td>\n",
              "      <td>2019-04-13T19:51:20.000+0000</td>\n",
              "    </tr>\n",
              "    <tr>\n",
              "      <th>3</th>\n",
              "      <td>1</td>\n",
              "      <td>2019-04-13T20:51:21.000+0000</td>\n",
              "    </tr>\n",
              "    <tr>\n",
              "      <th>4</th>\n",
              "      <td>1</td>\n",
              "      <td>2019-04-13T21:51:23.000+0000</td>\n",
              "    </tr>\n",
              "  </tbody>\n",
              "</table>\n",
              "</div>"
            ],
            "text/plain": [
              "   property_name                      datetime\n",
              "0              2  2019-04-13T17:51:16.000+0000\n",
              "1              1  2019-04-13T18:51:18.000+0000\n",
              "2              1  2019-04-13T19:51:20.000+0000\n",
              "3              1  2019-04-13T20:51:21.000+0000\n",
              "4              1  2019-04-13T21:51:23.000+0000"
            ]
          },
          "metadata": {
            "tags": []
          }
        }
      ]
    },
    {
      "cell_type": "markdown",
      "metadata": {
        "id": "_sXUs4r1xHPF"
      },
      "source": [
        "Obviously, there are either two temperature measurements (cooling and heating) for each unique date or there is one single measurement (cooling or heating)."
      ],
      "id": "_sXUs4r1xHPF"
    },
    {
      "cell_type": "code",
      "metadata": {
        "colab": {
          "base_uri": "https://localhost:8080/"
        },
        "id": "n-_yr1Huw7mc",
        "outputId": "298787fd-c979-4bd7-c928-e16863790bcb"
      },
      "source": [
        "property_count_df['property_name'].unique()"
      ],
      "id": "n-_yr1Huw7mc",
      "execution_count": 31,
      "outputs": [
        {
          "output_type": "execute_result",
          "data": {
            "text/plain": [
              "array([2, 1])"
            ]
          },
          "metadata": {
            "tags": []
          },
          "execution_count": 31
        }
      ]
    },
    {
      "cell_type": "markdown",
      "metadata": {
        "id": "dIf0kgqvxsu3"
      },
      "source": [
        "How many samples with both temperature measurements?"
      ],
      "id": "dIf0kgqvxsu3"
    },
    {
      "cell_type": "code",
      "metadata": {
        "colab": {
          "base_uri": "https://localhost:8080/"
        },
        "id": "ed9dd15d-3852-4d24-85c0-a00d6f493ade",
        "outputId": "4e4a8f23-2556-467c-c9ee-31fe7d67b6a2"
      },
      "source": [
        "property_count_df[property_count_df.property_name == 2][\"datetime\"].count()"
      ],
      "id": "ed9dd15d-3852-4d24-85c0-a00d6f493ade",
      "execution_count": 32,
      "outputs": [
        {
          "output_type": "execute_result",
          "data": {
            "text/plain": [
              "284"
            ]
          },
          "metadata": {
            "tags": []
          },
          "execution_count": 32
        }
      ]
    },
    {
      "cell_type": "markdown",
      "metadata": {
        "id": "uKqCPiIGx8bS"
      },
      "source": [
        "Next, we will extract all samples with both temperature measurements into one single data frame."
      ],
      "id": "uKqCPiIGx8bS"
    },
    {
      "cell_type": "markdown",
      "metadata": {
        "id": "MnG6tKFJyJB5"
      },
      "source": [
        "1) Get the list containing all unique date stamps"
      ],
      "id": "MnG6tKFJyJB5"
    },
    {
      "cell_type": "code",
      "metadata": {
        "id": "1771840f-60db-4ff3-80a9-cbfa24ddb2d3"
      },
      "source": [
        "two_temperature_dates = property_count_df[property_count_df['property_name']==2]['datetime'].values"
      ],
      "id": "1771840f-60db-4ff3-80a9-cbfa24ddb2d3",
      "execution_count": 33,
      "outputs": []
    },
    {
      "cell_type": "markdown",
      "metadata": {
        "id": "hzHc88q-ySzA"
      },
      "source": [
        "2) Go through all date stamps and extract the considering temperature measurements into single columns 'cooling_temperature' and 'heating_temperature' of a new data frame ('two_temperature_dates_df')"
      ],
      "id": "hzHc88q-ySzA"
    },
    {
      "cell_type": "code",
      "metadata": {
        "colab": {
          "base_uri": "https://localhost:8080/",
          "height": 206
        },
        "id": "d4e1e51c-f949-4cf9-8911-a7d45f335984",
        "outputId": "2c44e56b-f807-4fea-c9ae-66189742bc47"
      },
      "source": [
        "current_list = []\n",
        "for date in two_temperature_dates:\n",
        "    dataset_unique = {}\n",
        "    dataset_unique['datetime'] = date\n",
        "    dataset_unique['cooling_temperature'] = df[(df['datetime']==date) & (df['property_name']=='cooling_temperature')]['temperature'].values[0]\n",
        "    dataset_unique['heating_temperature'] = df[(df['datetime']==date) & (df['property_name']=='heating_temperature')]['temperature'].values[0]\n",
        "    current_list.append(dataset_unique)\n",
        "\n",
        "two_temperature_dates_df = pd.DataFrame(current_list)\n",
        "two_temperature_dates_df.head()"
      ],
      "id": "d4e1e51c-f949-4cf9-8911-a7d45f335984",
      "execution_count": 34,
      "outputs": [
        {
          "output_type": "execute_result",
          "data": {
            "text/html": [
              "<div>\n",
              "<style scoped>\n",
              "    .dataframe tbody tr th:only-of-type {\n",
              "        vertical-align: middle;\n",
              "    }\n",
              "\n",
              "    .dataframe tbody tr th {\n",
              "        vertical-align: top;\n",
              "    }\n",
              "\n",
              "    .dataframe thead th {\n",
              "        text-align: right;\n",
              "    }\n",
              "</style>\n",
              "<table border=\"1\" class=\"dataframe\">\n",
              "  <thead>\n",
              "    <tr style=\"text-align: right;\">\n",
              "      <th></th>\n",
              "      <th>datetime</th>\n",
              "      <th>cooling_temperature</th>\n",
              "      <th>heating_temperature</th>\n",
              "    </tr>\n",
              "  </thead>\n",
              "  <tbody>\n",
              "    <tr>\n",
              "      <th>0</th>\n",
              "      <td>2019-04-13T17:51:16.000+0000</td>\n",
              "      <td>15.0</td>\n",
              "      <td>33.3</td>\n",
              "    </tr>\n",
              "    <tr>\n",
              "      <th>1</th>\n",
              "      <td>2019-04-14T10:25:16.000+0000</td>\n",
              "      <td>20.9</td>\n",
              "      <td>34.2</td>\n",
              "    </tr>\n",
              "    <tr>\n",
              "      <th>2</th>\n",
              "      <td>2019-04-14T10:43:38.000+0000</td>\n",
              "      <td>20.4</td>\n",
              "      <td>34.5</td>\n",
              "    </tr>\n",
              "    <tr>\n",
              "      <th>3</th>\n",
              "      <td>2019-04-14T11:39:32.000+0000</td>\n",
              "      <td>32.3</td>\n",
              "      <td>33.9</td>\n",
              "    </tr>\n",
              "    <tr>\n",
              "      <th>4</th>\n",
              "      <td>2019-04-14T13:24:43.000+0000</td>\n",
              "      <td>15.0</td>\n",
              "      <td>34.8</td>\n",
              "    </tr>\n",
              "  </tbody>\n",
              "</table>\n",
              "</div>"
            ],
            "text/plain": [
              "                       datetime  cooling_temperature  heating_temperature\n",
              "0  2019-04-13T17:51:16.000+0000                 15.0                 33.3\n",
              "1  2019-04-14T10:25:16.000+0000                 20.9                 34.2\n",
              "2  2019-04-14T10:43:38.000+0000                 20.4                 34.5\n",
              "3  2019-04-14T11:39:32.000+0000                 32.3                 33.9\n",
              "4  2019-04-14T13:24:43.000+0000                 15.0                 34.8"
            ]
          },
          "metadata": {
            "tags": []
          },
          "execution_count": 34
        }
      ]
    },
    {
      "cell_type": "markdown",
      "metadata": {
        "id": "qXX743OQzyrc"
      },
      "source": [
        "3) Generate a new feature column 'temperature_difference_absolute' as the absolute difference between the heating and cooling temperature columns"
      ],
      "id": "qXX743OQzyrc"
    },
    {
      "cell_type": "code",
      "metadata": {
        "colab": {
          "base_uri": "https://localhost:8080/",
          "height": 206
        },
        "id": "7adf689f-547a-4438-8068-de9e8fbabf55",
        "outputId": "30f2e163-b045-48bd-f5a3-c43b04a6f6cd"
      },
      "source": [
        "two_temperature_dates_df['temperature_difference_absolute'] = abs(two_temperature_dates_df['heating_temperature'] - two_temperature_dates_df['cooling_temperature'])\n",
        "two_temperature_dates_df.head()"
      ],
      "id": "7adf689f-547a-4438-8068-de9e8fbabf55",
      "execution_count": 35,
      "outputs": [
        {
          "output_type": "execute_result",
          "data": {
            "text/html": [
              "<div>\n",
              "<style scoped>\n",
              "    .dataframe tbody tr th:only-of-type {\n",
              "        vertical-align: middle;\n",
              "    }\n",
              "\n",
              "    .dataframe tbody tr th {\n",
              "        vertical-align: top;\n",
              "    }\n",
              "\n",
              "    .dataframe thead th {\n",
              "        text-align: right;\n",
              "    }\n",
              "</style>\n",
              "<table border=\"1\" class=\"dataframe\">\n",
              "  <thead>\n",
              "    <tr style=\"text-align: right;\">\n",
              "      <th></th>\n",
              "      <th>datetime</th>\n",
              "      <th>cooling_temperature</th>\n",
              "      <th>heating_temperature</th>\n",
              "      <th>temperature_difference_absolute</th>\n",
              "    </tr>\n",
              "  </thead>\n",
              "  <tbody>\n",
              "    <tr>\n",
              "      <th>0</th>\n",
              "      <td>2019-04-13T17:51:16.000+0000</td>\n",
              "      <td>15.0</td>\n",
              "      <td>33.3</td>\n",
              "      <td>18.3</td>\n",
              "    </tr>\n",
              "    <tr>\n",
              "      <th>1</th>\n",
              "      <td>2019-04-14T10:25:16.000+0000</td>\n",
              "      <td>20.9</td>\n",
              "      <td>34.2</td>\n",
              "      <td>13.3</td>\n",
              "    </tr>\n",
              "    <tr>\n",
              "      <th>2</th>\n",
              "      <td>2019-04-14T10:43:38.000+0000</td>\n",
              "      <td>20.4</td>\n",
              "      <td>34.5</td>\n",
              "      <td>14.1</td>\n",
              "    </tr>\n",
              "    <tr>\n",
              "      <th>3</th>\n",
              "      <td>2019-04-14T11:39:32.000+0000</td>\n",
              "      <td>32.3</td>\n",
              "      <td>33.9</td>\n",
              "      <td>1.6</td>\n",
              "    </tr>\n",
              "    <tr>\n",
              "      <th>4</th>\n",
              "      <td>2019-04-14T13:24:43.000+0000</td>\n",
              "      <td>15.0</td>\n",
              "      <td>34.8</td>\n",
              "      <td>19.8</td>\n",
              "    </tr>\n",
              "  </tbody>\n",
              "</table>\n",
              "</div>"
            ],
            "text/plain": [
              "                       datetime  cooling_temperature  heating_temperature  \\\n",
              "0  2019-04-13T17:51:16.000+0000                 15.0                 33.3   \n",
              "1  2019-04-14T10:25:16.000+0000                 20.9                 34.2   \n",
              "2  2019-04-14T10:43:38.000+0000                 20.4                 34.5   \n",
              "3  2019-04-14T11:39:32.000+0000                 32.3                 33.9   \n",
              "4  2019-04-14T13:24:43.000+0000                 15.0                 34.8   \n",
              "\n",
              "   temperature_difference_absolute  \n",
              "0                             18.3  \n",
              "1                             13.3  \n",
              "2                             14.1  \n",
              "3                              1.6  \n",
              "4                             19.8  "
            ]
          },
          "metadata": {
            "tags": []
          },
          "execution_count": 35
        }
      ]
    },
    {
      "cell_type": "markdown",
      "metadata": {
        "id": "FiXaIqP_0jKo"
      },
      "source": [
        "## 2. Data visualization and interpretation"
      ],
      "id": "FiXaIqP_0jKo"
    },
    {
      "cell_type": "markdown",
      "metadata": {
        "id": "CBLSwd0K0tqQ"
      },
      "source": [
        "Let us first plot the heating temperature over the cooling temperature"
      ],
      "id": "CBLSwd0K0tqQ"
    },
    {
      "cell_type": "code",
      "metadata": {
        "colab": {
          "base_uri": "https://localhost:8080/",
          "height": 881
        },
        "id": "16ba6985-c237-4339-afb1-18eed2afb562",
        "outputId": "d7819957-0c37-4bdc-eb6d-65c0280f129a"
      },
      "source": [
        "figsize=(22,14)\n",
        "two_temperature_dates_df.plot.scatter(x='cooling_temperature', y='heating_temperature', figsize=figsize, title='Heating over cooling');\n",
        "plt.grid();\n",
        "plt.show();"
      ],
      "id": "16ba6985-c237-4339-afb1-18eed2afb562",
      "execution_count": 55,
      "outputs": [
        {
          "output_type": "stream",
          "text": [
            "*c* argument looks like a single numeric RGB or RGBA sequence, which should be avoided as value-mapping will have precedence in case its length matches with *x* & *y*.  Please use the *color* keyword-argument or provide a 2-D array with a single row if you intend to specify the same RGB or RGBA value for all points.\n"
          ],
          "name": "stderr"
        },
        {
          "output_type": "display_data",
          "data": {
            "image/png": "[encoded data removed]",
            "text/plain": [
              "<Figure size 1584x1008 with 1 Axes>"
            ]
          },
          "metadata": {
            "tags": [],
            "needs_background": "light"
          }
        }
      ]
    },
    {
      "cell_type": "markdown",
      "metadata": {
        "id": "pCe1hgXa1OIt"
      },
      "source": [
        "We can draw the following observations from the above plot:  \n",
        "1) At around 15.0° for the cooling temperature, there is no significant change in heating temperature.  \n",
        "2) Between ~ 20.0° and 34.0° for the cooling temperatur, there is a linear relation between cooling and heating temperature.  \n",
        "3) Between the two clusters (1 and 2) there are outliers."
      ],
      "id": "pCe1hgXa1OIt"
    },
    {
      "cell_type": "markdown",
      "metadata": {
        "id": "Db1QL2wa-FGN"
      },
      "source": [
        "## 3. Drawing Assumptions"
      ],
      "id": "Db1QL2wa-FGN"
    },
    {
      "cell_type": "code",
      "metadata": {
        "colab": {
          "base_uri": "https://localhost:8080/",
          "height": 206
        },
        "id": "KAFIM45lD8uZ",
        "outputId": "cb67736d-fec6-4127-e32d-2e67ca4d6de4"
      },
      "source": [
        "two_temperature_dates_df.head()"
      ],
      "id": "KAFIM45lD8uZ",
      "execution_count": 16,
      "outputs": [
        {
          "output_type": "execute_result",
          "data": {
            "text/html": [
              "<div>\n",
              "<style scoped>\n",
              "    .dataframe tbody tr th:only-of-type {\n",
              "        vertical-align: middle;\n",
              "    }\n",
              "\n",
              "    .dataframe tbody tr th {\n",
              "        vertical-align: top;\n",
              "    }\n",
              "\n",
              "    .dataframe thead th {\n",
              "        text-align: right;\n",
              "    }\n",
              "</style>\n",
              "<table border=\"1\" class=\"dataframe\">\n",
              "  <thead>\n",
              "    <tr style=\"text-align: right;\">\n",
              "      <th></th>\n",
              "      <th>datetime</th>\n",
              "      <th>cooling_temperature</th>\n",
              "      <th>heating_temperature</th>\n",
              "      <th>temperature_difference_absolute</th>\n",
              "    </tr>\n",
              "  </thead>\n",
              "  <tbody>\n",
              "    <tr>\n",
              "      <th>0</th>\n",
              "      <td>2019-04-13T17:51:16.000+0000</td>\n",
              "      <td>15.0</td>\n",
              "      <td>33.3</td>\n",
              "      <td>18.3</td>\n",
              "    </tr>\n",
              "    <tr>\n",
              "      <th>1</th>\n",
              "      <td>2019-04-14T10:25:16.000+0000</td>\n",
              "      <td>20.9</td>\n",
              "      <td>34.2</td>\n",
              "      <td>13.3</td>\n",
              "    </tr>\n",
              "    <tr>\n",
              "      <th>2</th>\n",
              "      <td>2019-04-14T10:43:38.000+0000</td>\n",
              "      <td>20.4</td>\n",
              "      <td>34.5</td>\n",
              "      <td>14.1</td>\n",
              "    </tr>\n",
              "    <tr>\n",
              "      <th>3</th>\n",
              "      <td>2019-04-14T11:39:32.000+0000</td>\n",
              "      <td>32.3</td>\n",
              "      <td>33.9</td>\n",
              "      <td>1.6</td>\n",
              "    </tr>\n",
              "    <tr>\n",
              "      <th>4</th>\n",
              "      <td>2019-04-14T13:24:43.000+0000</td>\n",
              "      <td>15.0</td>\n",
              "      <td>34.8</td>\n",
              "      <td>19.8</td>\n",
              "    </tr>\n",
              "  </tbody>\n",
              "</table>\n",
              "</div>"
            ],
            "text/plain": [
              "                       datetime  cooling_temperature  heating_temperature  \\\n",
              "0  2019-04-13T17:51:16.000+0000                 15.0                 33.3   \n",
              "1  2019-04-14T10:25:16.000+0000                 20.9                 34.2   \n",
              "2  2019-04-14T10:43:38.000+0000                 20.4                 34.5   \n",
              "3  2019-04-14T11:39:32.000+0000                 32.3                 33.9   \n",
              "4  2019-04-14T13:24:43.000+0000                 15.0                 34.8   \n",
              "\n",
              "   temperature_difference_absolute  \n",
              "0                             18.3  \n",
              "1                             13.3  \n",
              "2                             14.1  \n",
              "3                              1.6  \n",
              "4                             19.8  "
            ]
          },
          "metadata": {
            "tags": []
          },
          "execution_count": 16
        }
      ]
    },
    {
      "cell_type": "markdown",
      "metadata": {
        "id": "uR5JHKIt-MW0"
      },
      "source": [
        "There is one obvious pattern here:  \n",
        "When we consider the region of linear relation between cooling temperature and heating temperature as the optimal regime of operation for our sensor, then the assumption may arise that the goal is to minimite the temperature difference $\\Delta T$ between the cooling and the heating temperature.  \n",
        "One use case for such a goal seems to be the cooling management of data centers, as is described unde the [link](https://www.akcp.com/blog/temperature-sensor-for-optimization-of-cooling-system-efficiency/). There, it is stated:  \n",
        "\"To optimize cooling center efficiency, another route is to manage the delta (∆) T. This is the temperature differential between the cool air going into the data center and the warm air going back to the cooling units. Through this, the fan speeds in data centers are minimized as opposed to the delta (∆) P approach. It also allows for the continuous management of thermal efficiencies with respect to the intended design of the system\"."
      ],
      "id": "uR5JHKIt-MW0"
    },
    {
      "cell_type": "markdown",
      "metadata": {
        "id": "6kEniwkKAcRz"
      },
      "source": [
        "Let us do a visualization trick in order to check on our above assumption. For that, let us plot the absolute temperature difference over time for those data samples, where the cooling temperature is above 20.0°, in order to exclude the 15° region that we specified as regime (1) with no significant relationship between cooling and heating temperature. "
      ],
      "id": "6kEniwkKAcRz"
    },
    {
      "cell_type": "code",
      "metadata": {
        "colab": {
          "base_uri": "https://localhost:8080/",
          "height": 206
        },
        "id": "Y_8OhRLOs5-p",
        "outputId": "32a15d58-8481-4c46-dd54-ef6459d8e21c"
      },
      "source": [
        "selection.head()"
      ],
      "id": "Y_8OhRLOs5-p",
      "execution_count": 42,
      "outputs": [
        {
          "output_type": "execute_result",
          "data": {
            "text/html": [
              "<div>\n",
              "<style scoped>\n",
              "    .dataframe tbody tr th:only-of-type {\n",
              "        vertical-align: middle;\n",
              "    }\n",
              "\n",
              "    .dataframe tbody tr th {\n",
              "        vertical-align: top;\n",
              "    }\n",
              "\n",
              "    .dataframe thead th {\n",
              "        text-align: right;\n",
              "    }\n",
              "</style>\n",
              "<table border=\"1\" class=\"dataframe\">\n",
              "  <thead>\n",
              "    <tr style=\"text-align: right;\">\n",
              "      <th></th>\n",
              "      <th>datetime</th>\n",
              "      <th>cooling_temperature</th>\n",
              "      <th>heating_temperature</th>\n",
              "      <th>temperature_difference_absolute</th>\n",
              "    </tr>\n",
              "  </thead>\n",
              "  <tbody>\n",
              "    <tr>\n",
              "      <th>1</th>\n",
              "      <td>2019-04-14T10:25:16.000+0000</td>\n",
              "      <td>20.9</td>\n",
              "      <td>34.2</td>\n",
              "      <td>13.3</td>\n",
              "    </tr>\n",
              "    <tr>\n",
              "      <th>2</th>\n",
              "      <td>2019-04-14T10:43:38.000+0000</td>\n",
              "      <td>20.4</td>\n",
              "      <td>34.5</td>\n",
              "      <td>14.1</td>\n",
              "    </tr>\n",
              "    <tr>\n",
              "      <th>3</th>\n",
              "      <td>2019-04-14T11:39:32.000+0000</td>\n",
              "      <td>32.3</td>\n",
              "      <td>33.9</td>\n",
              "      <td>1.6</td>\n",
              "    </tr>\n",
              "    <tr>\n",
              "      <th>6</th>\n",
              "      <td>2019-04-14T15:00:38.000+0000</td>\n",
              "      <td>31.6</td>\n",
              "      <td>32.4</td>\n",
              "      <td>0.8</td>\n",
              "    </tr>\n",
              "    <tr>\n",
              "      <th>13</th>\n",
              "      <td>2019-04-16T08:58:39.000+0000</td>\n",
              "      <td>31.8</td>\n",
              "      <td>32.9</td>\n",
              "      <td>1.1</td>\n",
              "    </tr>\n",
              "  </tbody>\n",
              "</table>\n",
              "</div>"
            ],
            "text/plain": [
              "                        datetime  cooling_temperature  heating_temperature  \\\n",
              "1   2019-04-14T10:25:16.000+0000                 20.9                 34.2   \n",
              "2   2019-04-14T10:43:38.000+0000                 20.4                 34.5   \n",
              "3   2019-04-14T11:39:32.000+0000                 32.3                 33.9   \n",
              "6   2019-04-14T15:00:38.000+0000                 31.6                 32.4   \n",
              "13  2019-04-16T08:58:39.000+0000                 31.8                 32.9   \n",
              "\n",
              "    temperature_difference_absolute  \n",
              "1                              13.3  \n",
              "2                              14.1  \n",
              "3                               1.6  \n",
              "6                               0.8  \n",
              "13                              1.1  "
            ]
          },
          "metadata": {
            "tags": []
          },
          "execution_count": 42
        }
      ]
    },
    {
      "cell_type": "code",
      "metadata": {
        "colab": {
          "base_uri": "https://localhost:8080/",
          "height": 336
        },
        "id": "1c1f1a38-5518-4294-b1e2-10c14d95c0f6",
        "outputId": "7b3ed8bf-1674-4486-cd1f-e270c5d0dff4"
      },
      "source": [
        "selection = two_temperature_dates_df[two_temperature_dates_df.cooling_temperature>20.0]\n",
        "selection = selection.reset_index()\n",
        "figsize=(22,5)\n",
        "selection.plot(y='temperature_difference_absolute', figsize=figsize, title='Temperature absolute difference plot');\n",
        "plt.grid();\n",
        "plt.show();"
      ],
      "id": "1c1f1a38-5518-4294-b1e2-10c14d95c0f6",
      "execution_count": 47,
      "outputs": [
        {
          "output_type": "display_data",
          "data": {
            "image/png": "[encoded data removed]",
            "text/plain": [
              "<Figure size 1584x360 with 1 Axes>"
            ]
          },
          "metadata": {
            "tags": [],
            "needs_background": "light"
          }
        }
      ]
    },
    {
      "cell_type": "markdown",
      "metadata": {
        "id": "gee77nz3ryCw"
      },
      "source": [
        "The above plot shows now more clearly low optimal temperature difference with corresponding anomalies (peaks).  \n",
        "Below also for completeness reasons a histogram plot of the absolute temperature difference values for the cleaned up data set. It shows that the mean optimal difference is at ~ $\\Delta T = 2.3° \\pm 3.2$."
      ],
      "id": "gee77nz3ryCw"
    },
    {
      "cell_type": "code",
      "metadata": {
        "colab": {
          "base_uri": "https://localhost:8080/",
          "height": 474
        },
        "id": "c9c08a94-26b2-43a9-a111-09365f7e91d7",
        "outputId": "431b232d-835a-41dc-c616-954f2edfda8b"
      },
      "source": [
        "# Plot Histogram\n",
        "plt.figure(num=None, figsize=(6, 4), dpi=80, facecolor='w', edgecolor='k')\n",
        "sns.distplot(selection[\"temperature_difference_absolute\"], color='blue');\n",
        "\n",
        "# Get the fitted parameters used by the function\n",
        "(mu, sigma) = norm.fit(temperature)\n",
        "print( '\\n mu = {:.2f} and sigma = {:.2f}\\n'.format(mu, sigma))\n",
        "plt.legend(['Normal dist. ($\\mu=$ {:.2f} and $\\sigma=$ {:.2f} )'.format(mu, sigma)],\n",
        "            loc='best')\n",
        "plt.ylabel('Frequency')\n",
        "plt.title('absolute temperature difference distribution')\n",
        "\n",
        "\n",
        "plt.show()\n",
        "\n",
        "print(\"Skewness: %f\" % temperature.skew())\n",
        "print(\"Kurtosis: %f\" % temperature.kurt())"
      ],
      "id": "c9c08a94-26b2-43a9-a111-09365f7e91d7",
      "execution_count": 56,
      "outputs": [
        {
          "output_type": "stream",
          "text": [
            "/usr/local/lib/python3.7/dist-packages/seaborn/distributions.py:2557: FutureWarning: `distplot` is a deprecated function and will be removed in a future version. Please adapt your code to use either `displot` (a figure-level function with similar flexibility) or `histplot` (an axes-level function for histograms).\n",
            "  warnings.warn(msg, FutureWarning)\n"
          ],
          "name": "stderr"
        },
        {
          "output_type": "stream",
          "text": [
            "\n",
            " mu = 2.29 and sigma = 3.16\n",
            "\n"
          ],
          "name": "stdout"
        },
        {
          "output_type": "display_data",
          "data": {
            "image/png": "[encoded data removed]",
            "text/plain": [
              "<Figure size 480x320 with 1 Axes>"
            ]
          },
          "metadata": {
            "tags": []
          }
        },
        {
          "output_type": "stream",
          "text": [
            "Skewness: 2.631060\n",
            "Kurtosis: 5.873254\n"
          ],
          "name": "stdout"
        }
      ]
    },
    {
      "cell_type": "markdown",
      "metadata": {
        "id": "XXnuLleZ1GaF"
      },
      "source": [
        "## 4. Ideas for Modelling"
      ],
      "id": "XXnuLleZ1GaF"
    },
    {
      "cell_type": "markdown",
      "metadata": {
        "id": "501evfpj1L21"
      },
      "source": [
        "Our biggest issue is the very low sample size. Ideas to overcome this issue first, before we even think about serious modelling:  \n",
        "\n",
        "**(1)** Isolate a part of the cleaned data (with both temperatures) into a hold out test set. We must validate the final model on it, while the modeling itself is done on the rest.  \n",
        "\n",
        "**(2)** Take the rest of the data set with two temperature measurements (cooling and heating) as basis to interpolate values for the absolute temperature difference in between.  \n",
        "\n",
        "**(3)** Train two LSTM on this data to  \n",
        "      **(a)** predict a same length sequence of heating temperature for given sequence of cooling temperature.  \n",
        "      **(b)** predict a same length sequence of cooling temperature for a given sequence of heating temperature.  \n",
        "\n",
        "**(4)** Run the the two trained LSTM models on the data part with sequences of single temperature measurement to predict the corresponding sequences of the missing temperatures."
      ],
      "id": "501evfpj1L21"
    }
  ]
}